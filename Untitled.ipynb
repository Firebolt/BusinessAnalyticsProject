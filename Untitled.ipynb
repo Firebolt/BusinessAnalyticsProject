{
 "cells": [
  {
   "cell_type": "code",
   "execution_count": null,
   "id": "feeaf104-ecdb-407a-9a0d-8a4b043ef8d0",
   "metadata": {},
   "outputs": [],
   "source": [
    "def Convert_Displaced(x):\n",
    "    if x==0 :\n",
    "        return 'no'\n",
    "    elif x==1:\n",
    "        return 'yes'\n",
    "    else:\n",
    "        return x"
   ]
  },
  {
   "cell_type": "code",
   "execution_count": null,
   "id": "5dc9b01b-87b5-4279-bf04-bff6c637f92a",
   "metadata": {},
   "outputs": [],
   "source": [
    "def Convert_Educational_Special_Needs(x):\n",
    "    if x==0 :\n",
    "        return 'no'\n",
    "    elif x==1:\n",
    "        return 'yes'\n",
    "    else:\n",
    "        return x\n",
    "\n",
    "   \n",
    "    "
   ]
  },
  {
   "cell_type": "code",
   "execution_count": null,
   "id": "2298b322-d60a-4ba6-8bf2-8045c1191307",
   "metadata": {},
   "outputs": [],
   "source": [
    "def Convert_Debtor(x):\n",
    "    if x==0:\n",
    "        return 'no'\n",
    "    elif x==1:\n",
    "        return  'yes'\n",
    "    else:\n",
    "        return x"
   ]
  },
  {
   "cell_type": "code",
   "execution_count": null,
   "id": "89e69e32-0598-480c-8758-2e933ec7df1e",
   "metadata": {},
   "outputs": [],
   "source": [
    "def Convert_Tuition_Fees_Up_To_Date(x):\n",
    "    if x==0:\n",
    "        return 'no'\n",
    "    elif x==1:\n",
    "        return 'yes'\n",
    "    else:\n",
    "        return x"
   ]
  },
  {
   "cell_type": "code",
   "execution_count": null,
   "id": "1bbb5dca-7351-4d61-a98d-47dad0285d09",
   "metadata": {},
   "outputs": [],
   "source": [
    "def Convert_Gender(x):\n",
    "    if x==0:\n",
    "        return 'female'\n",
    "    elif x==1:\n",
    "        return 'male'\n",
    "    else:\n",
    "        return x\n",
    "      "
   ]
  },
  {
   "cell_type": "code",
   "execution_count": null,
   "id": "22e813fe-4499-4183-90b1-845b35dfab32",
   "metadata": {},
   "outputs": [],
   "source": [
    "def Convert_Scholarship_Holder(x):\n",
    "    if x==0:\n",
    "        return 'no'\n",
    "    elif x==1:\n",
    "        return 'yes'\n",
    "    else:\n",
    "        return x"
   ]
  },
  {
   "cell_type": "code",
   "execution_count": 4,
   "id": "51d2e9a0-76e2-488a-a780-601990369211",
   "metadata": {},
   "outputs": [],
   "source": [
    "def Convert_International(x):\n",
    "    if x==0:\n",
    "        return 'no'\n",
    "    elif x==1:\n",
    "        return 'yes'\n",
    "    else:\n",
    "        return x"
   ]
  },
  {
   "cell_type": "code",
   "execution_count": null,
   "id": "7065a23a-4a19-4a81-a8db-37e4f629cf22",
   "metadata": {},
   "outputs": [],
   "source": []
  }
 ],
 "metadata": {
  "kernelspec": {
   "display_name": "Python 3 (ipykernel)",
   "language": "python",
   "name": "python3"
  },
  "language_info": {
   "codemirror_mode": {
    "name": "ipython",
    "version": 3
   },
   "file_extension": ".py",
   "mimetype": "text/x-python",
   "name": "python",
   "nbconvert_exporter": "python",
   "pygments_lexer": "ipython3",
   "version": "3.8.18"
  }
 },
 "nbformat": 4,
 "nbformat_minor": 5
}
